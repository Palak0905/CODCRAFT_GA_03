{
  "nbformat": 4,
  "nbformat_minor": 0,
  "metadata": {
    "colab": {
      "provenance": []
    },
    "kernelspec": {
      "name": "python3",
      "display_name": "Python 3"
    },
    "language_info": {
      "name": "python"
    }
  },
  "cells": [
    {
      "cell_type": "code",
      "execution_count": 1,
      "metadata": {
        "colab": {
          "base_uri": "https://localhost:8080/"
        },
        "id": "gNXzHrZgMbAe",
        "outputId": "e2c2330f-3f2a-478a-be69-ef86cb52e120"
      },
      "outputs": [
        {
          "output_type": "stream",
          "name": "stdout",
          "text": [
            "Generated Text:\n",
            " markov chains. this task involves creating a word based on the probability of a simple text generation algorithm using markov chains. this task involves creating a simple text generation algorithm\n"
          ]
        }
      ],
      "source": [
        "import random\n",
        "from collections import defaultdict\n",
        "\n",
        "def build_markov_chain(text):\n",
        "    words = text.split()\n",
        "    markov_chain = defaultdict(list)\n",
        "\n",
        "    for current_word, next_word in zip(words[:-1], words[1:]):\n",
        "        markov_chain[current_word].append(next_word)\n",
        "\n",
        "    return markov_chain\n",
        "\n",
        "def generate_text(chain, start_word, length=50):\n",
        "    word = start_word\n",
        "    output = [word]\n",
        "\n",
        "    for _ in range(length - 1):\n",
        "        next_words = chain.get(word)\n",
        "        if not next_words:\n",
        "            break\n",
        "        word = random.choice(next_words)\n",
        "        output.append(word)\n",
        "\n",
        "    return ' '.join(output)\n",
        "\n",
        "# Example text (you can replace this with your own large text)\n",
        "sample_text = \"\"\"\n",
        "Implement a simple text generation algorithm using Markov chains.\n",
        "This task involves creating a statistical model that predicts the probability of a word based on the previous one.\n",
        "Markov chains are useful for probabilistic modeling of sequences like language.\n",
        "\"\"\"\n",
        "\n",
        "# Build the chain and generate text\n",
        "chain = build_markov_chain(sample_text.lower())\n",
        "generated = generate_text(chain, start_word=\"markov\", length=30)\n",
        "\n",
        "print(\"Generated Text:\\n\", generated)\n"
      ]
    }
  ]
}